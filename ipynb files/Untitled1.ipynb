{
 "cells": [
  {
   "cell_type": "code",
   "execution_count": 1,
   "metadata": {},
   "outputs": [
    {
     "name": "stdout",
     "output_type": "stream",
     "text": [
      "Sepal Length: 2\n",
      "Sepal Width: 3\n",
      "Petal Length: 3\n",
      "Petal Width: 4\n",
      "Species: Iris ['virginica']\n"
     ]
    }
   ],
   "source": [
    "from sklearn.model_selection import train_test_split\n",
    "from sklearn.neighbors import KNeighborsClassifier\n",
    "import numpy as np\n",
    "\n",
    "\n",
    "from sklearn.datasets import load_iris\n",
    "iris = load_iris()\n",
    "\n",
    "\n",
    "X_train, X_test, y_train, y_test = train_test_split(iris['data'], iris['target'], random_state=0)\n",
    "knn = KNeighborsClassifier(n_neighbors=1)\n",
    "\n",
    "knn.fit(X_train, y_train)\n",
    "\n",
    "sepal_l = float(input(\"Sepal Length: \"))\n",
    "sepal_w = float(input(\"Sepal Width: \"))\n",
    "petal_l = float(input(\"Petal Length: \"))\n",
    "petal_w = float(input(\"Petal Width: \"))\n",
    "\n",
    "\n",
    "X_new = np.array([[sepal_l, sepal_w, petal_l, petal_w]])\n",
    "\n",
    "prediction = knn.predict(X_new)\n",
    "\n",
    "print(f\"Species: Iris {iris['target_names'][prediction]}\")\n"
   ]
  },
  {
   "cell_type": "code",
   "execution_count": null,
   "metadata": {},
   "outputs": [],
   "source": []
  },
  {
   "cell_type": "code",
   "execution_count": null,
   "metadata": {},
   "outputs": [],
   "source": [
    "from sklearn.model_selection import train_test_split\n",
    "from sklearn.neighbors import KNeighborsClassifier\n",
    "import numpy as np\n",
    "\n",
    "\n",
    "from sklearn.datasets import load_iris\n",
    "iris = load_iris()\n",
    "\n",
    "\n",
    "X_train, X_test, y_train, y_test = train_test_split(iris['data'], iris['target'], random_state=0)\n",
    "knn = KNeighborsClassifier(n_neighbors=1)\n",
    "\n",
    "knn.fit(X_train, y_train)\n",
    "\n",
    "sepal_l = float(input(\"Sepal Length: \"))\n",
    "sepal_w = float(input(\"Sepal Width: \"))\n",
    "petal_l = float(input(\"Petal Length: \"))\n",
    "petal_w = float(input(\"Petal Width: \"))\n",
    "\n",
    "\n",
    "X_new = np.array([[sepal_l, sepal_w, petal_l, petal_w]])\n",
    "\n",
    "prediction = knn.predict(X_new)\n",
    "\n",
    "print(f\"Species: Iris {iris['target_names'][prediction]}\")\n"
   ]
  },
  {
   "cell_type": "code",
   "execution_count": null,
   "metadata": {},
   "outputs": [],
   "source": []
  },
  {
   "cell_type": "code",
   "execution_count": null,
   "metadata": {},
   "outputs": [],
   "source": []
  }
 ],
 "metadata": {
  "kernelspec": {
   "display_name": "Python 3",
   "language": "python",
   "name": "python3"
  }
 },
 "nbformat": 4,
 "nbformat_minor": 2
}
