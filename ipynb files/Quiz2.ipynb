{
 "cells": [
  {
   "cell_type": "code",
   "execution_count": 6,
   "metadata": {},
   "outputs": [
    {
     "name": "stdout",
     "output_type": "stream",
     "text": [
      "(1, 4)\n",
      "[0]\n",
      "['setosa']\n",
      "0.9736842105263158\n"
     ]
    }
   ],
   "source": [
    "# Iris Classification Model: Machine learning model that will allow us to\n",
    "# classify species of iris flowers. This application will introduce many\n",
    "# rudimentary features and concepts of machine learning and is a good use case\n",
    "# for these types of models.\n",
    "\n",
    "# Use case: Botanist wants to determine the species of an iris flower based on\n",
    "# characteristics of that flower. For instance attributes including petal\n",
    "# length, width, etc. are the \"features\" that determine the classification\n",
    "# of a given iris flower.\n",
    "\n",
    "from sklearn.model_selection import train_test_split\n",
    "from sklearn.neighbors import KNeighborsClassifier\n",
    "import numpy as np\n",
    "import seaborn as sns\n",
    "\n",
    "# Import the iris dataset as provided by the sklearn Python module:\n",
    "from sklearn.datasets import load_iris\n",
    "iris = load_iris()\n",
    "\n",
    "# Goal: Use k-nearest neighbors model to classify a given iris sample\n",
    "\n",
    "# Algorithm finds the point in the training set closest to the new\n",
    "# point corresponding to the new sample we are analyzing. It then\n",
    "# assigns a label to this new point.\n",
    "\n",
    "# We determine this by finding the k-closest neighbors to the given\n",
    "# point and determine which predication has the majority class among\n",
    "# the neightbors. We will start by considering one neighbor for now.\n",
    "\n",
    "# In order to determine how well our model performs, we need to run it on data\n",
    "# it has not seen before, that is, we need to run it on a new set of\n",
    "# measurements and see where our model categorizes this new item.\n",
    "\n",
    "# To do this, we can split our data up into two sets; a training and testing\n",
    "# set. The training set will be what our model uses to learn, and the test set\n",
    "# will be the remaining set that assesses whether the model is able to\n",
    "# accurately predict the outcome of the measurements from this set.\n",
    "\n",
    "# We will be using a 75/25 split for train/test respectively. That is, we will\n",
    "# be training our model on 75% of our data, and then testing on the remaining\n",
    "# 25%. What split percentage you use is up to you, but a 75/25 split is a\n",
    "# reasonable rule to use as a starting point.\n",
    "\n",
    "# Split our dataset into training and testing sets.\n",
    "X_train, X_test, y_train, y_test = train_test_split(iris['data'], iris['target'], random_state=0)\n",
    "knn = KNeighborsClassifier(n_neighbors=1)\n",
    "\n",
    "knn.fit(X_train, y_train)\n",
    "\n",
    "# Imagine that we obtained a new iris \n",
    "X_new = np.array([[5, 2.9, 1, 0.2]])\n",
    "print(X_new.shape)\n",
    "\n",
    "# We can use the predict function to use our model to offer a prediction as to\n",
    "# what species our X_new corresponds to.\n",
    "prediction = knn.predict(X_new)\n",
    "print(prediction)\n",
    "\n",
    "# We obtain an outcome of \"0\", which, if we consult the target names,\n",
    "# this corresponds to the Setosa species.\n",
    "print(iris['target_names'][prediction])\n",
    "\n",
    "# Overall predication score for how likely our model was able to correctly\n",
    "# predict the species of flower on the test set.\n",
    "print(knn.score(X_test, y_test))"
   ]
  },
  {
   "cell_type": "code",
   "execution_count": 7,
   "metadata": {},
   "outputs": [
    {
     "name": "stdout",
     "output_type": "stream",
     "text": [
      "(1, 4)\n",
      "[0]\n",
      "['setosa']\n",
      "0.9736842105263158\n"
     ]
    }
   ],
   "source": [
    "# Iris Classification Model: Machine learning model that will allow us to\n",
    "# classify species of iris flowers. This application will introduce many\n",
    "# rudimentary features and concepts of machine learning and is a good use case\n",
    "# for these types of models.\n",
    "\n",
    "# Use case: Botanist wants to determine the species of an iris flower based on\n",
    "# characteristics of that flower. For instance attributes including petal\n",
    "# length, width, etc. are the \"features\" that determine the classification\n",
    "# of a given iris flower.\n",
    "\n",
    "from sklearn.model_selection import train_test_split\n",
    "from sklearn.neighbors import KNeighborsClassifier\n",
    "import numpy as np\n",
    "\n",
    "# Import the iris dataset as provided by the sklearn Python module:\n",
    "from sklearn.datasets import load_iris\n",
    "iris = load_iris()\n",
    "\n",
    "# Goal: Use k-nearest neighbors model to classify a given iris sample\n",
    "\n",
    "# Algorithm finds the point in the training set closest to the new\n",
    "# point corresponding to the new sample we are analyzing. It then\n",
    "# assigns a label to this new point.\n",
    "\n",
    "# We determine this by finding the k-closest neighbors to the given\n",
    "# point and determine which predication has the majority class among\n",
    "# the neightbors. We will start by considering one neighbor for now.\n",
    "\n",
    "# In order to determine how well our model performs, we need to run it on data\n",
    "# it has not seen before, that is, we need to run it on a new set of\n",
    "# measurements and see where our model categorizes this new item.\n",
    "\n",
    "# To do this, we can split our data up into two sets; a training and testing\n",
    "# set. The training set will be what our model uses to learn, and the test set\n",
    "# will be the remaining set that assesses whether the model is able to\n",
    "# accurately predict the outcome of the measurements from this set.\n",
    "\n",
    "# We will be using a 75/25 split for train/test respectively. That is, we will\n",
    "# be training our model on 75% of our data, and then testing on the remaining\n",
    "# 25%. What split percentage you use is up to you, but a 75/25 split is a\n",
    "# reasonable rule to use as a starting point.\n",
    "\n",
    "# Split our dataset into training and testing sets.\n",
    "X_train, X_test, y_train, y_test = train_test_split(iris['data'], iris['target'], random_state=0)\n",
    "knn = KNeighborsClassifier(n_neighbors=1)\n",
    "\n",
    "knn.fit(X_train, y_train)\n",
    "\n",
    "# Imagine that we obtained a new iris \n",
    "X_new = np.array([[5, 2.9, 1, 0.2]])\n",
    "print(X_new.shape)\n",
    "\n",
    "# We can use the predict function to use our model to offer a prediction as to\n",
    "# what species our X_new corresponds to.\n",
    "prediction = knn.predict(X_new)\n",
    "print(prediction)\n",
    "\n",
    "# We obtain an outcome of \"0\", which, if we consult the target names,\n",
    "# this corresponds to the Setosa species.\n",
    "print(iris['target_names'][prediction])\n",
    "\n",
    "# Overall predication score for how likely our model was able to correctly\n",
    "# predict the species of flower on the test set.\n",
    "print(knn.score(X_test, y_test))"
   ]
  },
  {
   "cell_type": "code",
   "execution_count": 5,
   "metadata": {
    "scrolled": true
   },
   "outputs": [
    {
     "name": "stdout",
     "output_type": "stream",
     "text": [
      "Sepal Length: 2\n",
      "Sepal Width: 3\n",
      "Petal Length: 5\n",
      "Petal Width: 4\n",
      "Species: Iris ['virginica']\n"
     ]
    },
    {
     "ename": "NameError",
     "evalue": "name 'plt' is not defined",
     "output_type": "error",
     "traceback": [
      "\u001b[1;31m---------------------------------------------------------------------------\u001b[0m",
      "\u001b[1;31mNameError\u001b[0m                                 Traceback (most recent call last)",
      "\u001b[1;32m<ipython-input-5-1cc54e711a1d>\u001b[0m in \u001b[0;36m<module>\u001b[1;34m\u001b[0m\n\u001b[0;32m     23\u001b[0m \u001b[0midata\u001b[0m \u001b[1;33m=\u001b[0m \u001b[0mpd\u001b[0m\u001b[1;33m.\u001b[0m\u001b[0mread_csv\u001b[0m\u001b[1;33m(\u001b[0m\u001b[1;34m'iris.csv'\u001b[0m\u001b[1;33m)\u001b[0m\u001b[1;33m\u001b[0m\u001b[1;33m\u001b[0m\u001b[0m\n\u001b[0;32m     24\u001b[0m \u001b[0msns\u001b[0m\u001b[1;33m.\u001b[0m\u001b[0mrelplot\u001b[0m\u001b[1;33m(\u001b[0m\u001b[0mx\u001b[0m\u001b[1;33m=\u001b[0m\u001b[1;34m\"sepal.length\"\u001b[0m\u001b[1;33m,\u001b[0m \u001b[0my\u001b[0m\u001b[1;33m=\u001b[0m\u001b[1;34m\"sepal.width\"\u001b[0m\u001b[1;33m,\u001b[0m \u001b[0mhue\u001b[0m\u001b[1;33m=\u001b[0m\u001b[1;34m\"variety\"\u001b[0m\u001b[1;33m,\u001b[0m \u001b[0mdata\u001b[0m\u001b[1;33m=\u001b[0m\u001b[0midata\u001b[0m\u001b[1;33m)\u001b[0m\u001b[1;33m\u001b[0m\u001b[1;33m\u001b[0m\u001b[0m\n\u001b[1;32m---> 25\u001b[1;33m \u001b[0mplt\u001b[0m\u001b[1;33m.\u001b[0m\u001b[0mshow\u001b[0m\u001b[1;33m(\u001b[0m\u001b[1;33m)\u001b[0m\u001b[1;33m\u001b[0m\u001b[1;33m\u001b[0m\u001b[0m\n\u001b[0m\u001b[0;32m     26\u001b[0m \u001b[1;33m\u001b[0m\u001b[0m\n\u001b[0;32m     27\u001b[0m \u001b[0msns\u001b[0m\u001b[1;33m.\u001b[0m\u001b[0mrelplot\u001b[0m\u001b[1;33m(\u001b[0m\u001b[0mx\u001b[0m\u001b[1;33m=\u001b[0m\u001b[1;34m\"sepal.width\"\u001b[0m\u001b[1;33m,\u001b[0m \u001b[0my\u001b[0m\u001b[1;33m=\u001b[0m\u001b[1;34m\"petal.length\"\u001b[0m\u001b[1;33m,\u001b[0m \u001b[0mhue\u001b[0m\u001b[1;33m=\u001b[0m\u001b[1;34m\"variety\"\u001b[0m\u001b[1;33m,\u001b[0m \u001b[0mdata\u001b[0m\u001b[1;33m=\u001b[0m\u001b[0midata\u001b[0m\u001b[1;33m)\u001b[0m\u001b[1;33m\u001b[0m\u001b[1;33m\u001b[0m\u001b[0m\n",
      "\u001b[1;31mNameError\u001b[0m: name 'plt' is not defined"
     ]
    },
    {
     "data": {
      "image/png": "[encoded data removed]",
      "text/plain": [
       "<Figure size 445.75x360 with 1 Axes>"
      ]
     },
     "metadata": {
      "needs_background": "light"
     },
     "output_type": "display_data"
    }
   ],
   "source": [
    "from sklearn.model_selection import train_test_split\n",
    "from sklearn.neighbors import KNeighborsClassifier\n",
    "import numpy as np\n",
    "import pandas as pd\n",
    "\n",
    "from sklearn.datasets import load_iris\n",
    "iris = load_iris()\n",
    "\n",
    "X_train, X_test, y_train, y_test = train_test_split(iris['data'], iris['target'], random_state=0)\n",
    "knn = KNeighborsClassifier(n_neighbors=1)\n",
    "\n",
    "knn.fit(X_train, y_train)\n",
    "\n",
    "sepal_l = float(input(\"Sepal Length: \"))\n",
    "sepal_w = float(input(\"Sepal Width: \"))\n",
    "petal_l = float(input(\"Petal Length: \"))\n",
    "petal_w = float(input(\"Petal Width: \"))\n",
    "\n",
    "X_new = np.array([[sepal_l, sepal_w, petal_l, petal_w]])\n",
    "prediction = knn.predict(X_new)\n",
    "print(f\"Species: Iris {iris['target_names'][prediction]}\")\n",
    "      \n",
    "idata = pd.read_csv('iris.csv')\n",
    "sns.relplot(x=\"sepal.length\", y=\"sepal.width\", hue=\"variety\", data=idata)\n",
    "plt.show()\n",
    "\n",
    "sns.relplot(x=\"sepal.width\", y=\"petal.length\", hue=\"variety\", data=idata)\n",
    "plt.show()\n",
    "\n",
    "\n",
    "sns.relplot(x=\"petal.length\", y=\"petal.width\", hue=\"variety\", data=idata)\n",
    "plt.show()\n",
    "\n",
    "sns.relplot(x=\"sepal.length\", y=\"petal.width\", hue=\"variety\", data=idata)\n",
    "plt.show()\n",
    "\n",
    "sns.relplot(x=\"sepal.length\", y=\"petal.length\", hue=\"variety\", data=idata)\n",
    "plt.show()\n",
    "\n",
    "sns.relplot(x=\"sepal.width\", y=\"petal.width\", hue=\"variety\", data=idata)\n",
    "plt.show()\n"
   ]
  },
  {
   "cell_type": "code",
   "execution_count": null,
   "metadata": {},
   "outputs": [],
   "source": []
  },
  {
   "cell_type": "code",
   "execution_count": null,
   "metadata": {},
   "outputs": [],
   "source": []
  },
  {
   "cell_type": "code",
   "execution_count": null,
   "metadata": {},
   "outputs": [],
   "source": []
  }
 ],
 "metadata": {
  "kernelspec": {
   "display_name": "Python 3",
   "language": "python",
   "name": "python3"
  },
  "language_info": {
   "codemirror_mode": {
    "name": "ipython",
    "version": 3
   },
   "file_extension": ".py",
   "mimetype": "text/x-python",
   "name": "python",
   "nbconvert_exporter": "python",
   "pygments_lexer": "ipython3",
   "version": "3.7.4"
  }
 },
 "nbformat": 4,
 "nbformat_minor": 2
}
