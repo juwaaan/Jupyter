{
 "cells": [
  {
   "cell_type": "code",
   "execution_count": null,
   "metadata": {},
   "outputs": [],
   "source": [
    "import numpy as np\n",
    "import pandas as pd\n",
    "import seaborn as sns  \n",
    "import matplotlib.pyplot as plt\n",
    "      \n",
    "    \n",
    "idata = pd.read_csv('iris.csv')\n",
    "sns.relplot(x=\"sepal.length\", y=\"sepal.width\", hue=\"variety\", data=idata)\n",
    "plt.show()\n",
    "\n",
    "sns.relplot(x=\"sepal.width\", y=\"petal.length\", hue=\"variety\", data=idata)\n",
    "plt.show()\n",
    "\n",
    "\n",
    "sns.relplot(x=\"petal.length\", y=\"petal.width\", hue=\"variety\", data=idata)\n",
    "plt.show()\n",
    "\n",
    "sns.relplot(x=\"sepal.length\", y=\"petal.width\", hue=\"variety\", data=idata)\n",
    "plt.show()\n",
    "\n",
    "sns.relplot(x=\"sepal.length\", y=\"petal.length\", hue=\"variety\", data=idata)\n",
    "plt.show()\n",
    "\n",
    "sns.relplot(x=\"sepal.width\", y=\"petal.width\", hue=\"variety\", data=idata)\n",
    "plt.show()\n",
    "\n",
    "\n",
    "\n"
   ]
  }
 ],
 "metadata": {
  "kernelspec": {
   "display_name": "Python 3",
   "language": "python",
   "name": "python3"
  },
  "language_info": {
   "codemirror_mode": {
    "name": "ipython",
    "version": 3
   },
   "file_extension": ".py",
   "mimetype": "text/x-python",
   "name": "python",
   "nbconvert_exporter": "python",
   "pygments_lexer": "ipython3",
   "version": "3.7.4"
  }
 },
 "nbformat": 4,
 "nbformat_minor": 2
}
